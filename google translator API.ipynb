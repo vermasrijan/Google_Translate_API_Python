{
 "cells": [
  {
   "cell_type": "code",
   "execution_count": 5,
   "metadata": {},
   "outputs": [],
   "source": [
    "from docx import Document\n",
    "from googletrans import Translator\n",
    "\n",
    "\n",
    "def translate_doc(filename, destination='en', mix=True): #detection of source language is automatic, just set the destination language\n",
    "    \"\"\"\n",
    "    translate a word document type of file and save the result as document/text and keep the exactly same file format. \n",
    "        :param filename: word doc file \n",
    "        :param destination='zh-CN': \n",
    "        :param mix=True: if True, will have original language and target language into the same doc. paragraphs by paragraphs.\n",
    "    \"\"\"\n",
    "    def tx(t): return Translator().translate(t, dest=destination).text\n",
    "    doc = Document(filename)\n",
    "    for p in doc.paragraphs:\n",
    "        txd = tx(p.text)\n",
    "\n",
    "        p.text = p.text + ('\\n' + txd if mix else '')\n",
    "\n",
    "    #for table in doc.tables:\n",
    "     #   for row in table.rows:\n",
    "      #      for cell in row.cells:\n",
    "       #        txd = tx(cell.text)\n",
    "                #p.text = cell.text + ('\\n' + txd if mix else '')\n",
    "\n",
    "    f = filename.replace('.docx', destination.lower() + '.txt') #for saving the translated file in a txt format\n",
    "    doc.save(f)\n",
    "\n",
    "if __name__ == '__main__':\n",
    "##############taking doc file having english sentences(one sentence, in one line)#####################################\n",
    "    filename = '/Users/pankajverma/Desktop/srijan.docx'\n",
    "    translate_doc(filename)"
   ]
  },
  {
   "cell_type": "code",
   "execution_count": null,
   "metadata": {},
   "outputs": [],
   "source": []
  },
  {
   "cell_type": "code",
   "execution_count": null,
   "metadata": {},
   "outputs": [],
   "source": []
  }
 ],
 "metadata": {
  "kernelspec": {
   "display_name": "Python [default]",
   "language": "python",
   "name": "python3"
  },
  "language_info": {
   "codemirror_mode": {
    "name": "ipython",
    "version": 3
   },
   "file_extension": ".py",
   "mimetype": "text/x-python",
   "name": "python",
   "nbconvert_exporter": "python",
   "pygments_lexer": "ipython3",
   "version": "3.6.5"
  }
 },
 "nbformat": 4,
 "nbformat_minor": 2
}
